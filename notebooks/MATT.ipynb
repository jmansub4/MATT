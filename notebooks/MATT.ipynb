{
  "nbformat": 4,
  "nbformat_minor": 0,
  "metadata": {
    "colab": {
      "provenance": []
    },
    "kernelspec": {
      "name": "python3",
      "display_name": "Python 3"
    },
    "language_info": {
      "name": "python"
    }
  },
  "cells": [
    {
      "cell_type": "code",
      "execution_count": null,
      "metadata": {
        "id": "l-Q7EBWYrqNY"
      },
      "outputs": [],
      "source": [
        "import os\n",
        "import re\n",
        "import shutil\n",
        "import supervision as sv\n",
        "import numpy as np\n",
        "import cv2 as cv2\n",
        "import imageio\n",
        "import scipy.ndimage as nd\n",
        "from autodistill.detection import CaptionOntology\n",
        "from autodistill_grounded_sam import GroundedSAM\n",
        "from autodistill_yolov8 import YOLOv8\n",
        "from ultralytics import YOLO\n",
        "from pathlib import Path"
      ]
    },
    {
      "cell_type": "code",
      "source": [
        "# Set these values to appropriate folders on your local system\n",
        "\n",
        "source_videos = \"folder path of videos in multispectral formats (ex. rgb, fuse, tir) to extract images in corresponding folders\"\n",
        "source_images_from_videos = \"folder path of multispectral images extracted from videos\"\n",
        "target = \"folder path of images after applying flipped transformation\"\n",
        "labelled_target=\"folder path of final labeled images\"\n",
        "FRAME_STRIDE = 100"
      ],
      "metadata": {
        "id": "1EyB_OKir0lh"
      },
      "execution_count": null,
      "outputs": []
    },
    {
      "cell_type": "code",
      "source": [
        "# Get a list of all the multispectral video types.\n",
        "# The code assumes that multispectral videos in different formats are stored in corresponding folders.\n",
        "# For example, all rgb videos are stored in \"rgb\" folder under this video source top level folder.\n",
        "\n",
        "video_types = os.listdir(source_videos)\n",
        "\n",
        "# Extract images and store them in appropriate folders depending on the type (rgb, tir, fuse) from videos\n",
        "# The images are named with the folder name appended with an incrementing number. For example, rgb-0000.jpg, rgb-0001.jpg etc. in \"rgb\" folder.\n",
        "# Another example, fuse-0000.jpg, fuse-0001.jpg etc. in \"fuse\" folder.\n",
        "# This format is pre-requisite for transposing rgb labels on tir and fuse images.\n",
        "\n",
        "for video_type in video_types:\n",
        "    print(video_type)\n",
        "\n",
        "    video_paths = sv.list_files_with_extensions(directory=source_videos + '/' + video_type, extensions=[\"mov\", \"mp4\"])\n",
        "    print(video_paths)\n",
        "\n",
        "    for video_path in video_paths:\n",
        "        print(video_path)\n",
        "        video_name = video_path.stem\n",
        "        print(video_name)\n",
        "        image_name_pattern = video_type + \"-{:05d}.jpg\"\n",
        "        if not os.path.exists(source_images_from_videos + '/' + video_type):\n",
        "                    os.makedirs(source_images_from_videos + '/' + video_type)\n",
        "        with sv.ImageSink(target_dir_path=source_images_from_videos + '/' + video_type, image_name_pattern=image_name_pattern) as sink:\n",
        "            for image in sv.get_video_frames_generator(source_path=str(video_path), stride=FRAME_STRIDE):\n",
        "                sink.save_image(image=image)\n"
      ],
      "metadata": {
        "id": "5CQwWTSwr28i"
      },
      "execution_count": null,
      "outputs": []
    },
    {
      "cell_type": "code",
      "source": [
        "# Apply flipped image transformation\n",
        "for folder in (os.listdir(source_images_from_videos)):\n",
        "        for file in (os.listdir(source_images_from_videos + '/' + folder)):\n",
        "            try:\n",
        "                image = imageio.imread(source_images_from_videos + '/' + folder + \"/\" + str(os.path.splitext(file)[0])+'.jpg')\n",
        "                flipped_images = cv2.flip(image, 1);\n",
        "                if not os.path.exists(target + '/' + folder):\n",
        "                    os.makedirs(target + '/' + folder)\n",
        "                cv2.imwrite(target + '/' + folder + '/'+str(os.path.splitext(file)[0])+'.jpg',cv2.cvtColor(image, cv2.COLOR_RGB2BGR));\n",
        "                cv2.imwrite(target + '/' + folder + '/'+str(os.path.splitext(file)[0])+'_flipped_images.jpg',cv2.cvtColor(flipped_images, cv2.COLOR_RGB2BGR));\n",
        "\n",
        "            except Exception as e:\n",
        "                print(e)"
      ],
      "metadata": {
        "id": "Pkz9XMLcsGW5"
      },
      "execution_count": null,
      "outputs": []
    },
    {
      "cell_type": "code",
      "source": [
        "# Run auto labelling using SAM only on RGB images\n",
        "ontology=CaptionOntology({\n",
        "    \"truck\": \"truck\",\n",
        "    \"car\": \"car\"\n",
        "})\n",
        "\n",
        "base_model = GroundedSAM(ontology=ontology)\n",
        "\n",
        "\n",
        "for folder in (os.listdir(target)):\n",
        "    if folder == 'rgb':\n",
        "        dataset = base_model.label(\n",
        "            input_folder=target + \"/\" + folder,\n",
        "            extension=\".jpg\",\n",
        "            output_folder=labelled_target )\n"
      ],
      "metadata": {
        "id": "JSTrdxtAsIt3"
      },
      "execution_count": null,
      "outputs": []
    },
    {
      "cell_type": "code",
      "source": [
        "# Transpose generated label files to fuse and tir normal and flipped images\n",
        "# The files that are generated in labeled_target folder are in a YOLO format. But initially it only contains labels and images from\n",
        "# regular and flipped rgb images.\n",
        "\n",
        "# Get a list of rgb images numbers currently in labeled target folder in \"train\" and \"valid\" folder after removing the prefix \"rgb-\"\n",
        "train = [ f[f.find(\"-\")+1 : f.find(\".\")] for f in os.listdir(labelled_target + \"/train/images/\")]\n",
        "valid = [ f[f.find(\"-\")+1 : f.find(\".\")] for f in os.listdir(labelled_target + \"/valid/images/\")]"
      ],
      "metadata": {
        "id": "5WDPVjjRsLhm"
      },
      "execution_count": null,
      "outputs": []
    },
    {
      "cell_type": "code",
      "source": [
        "# Get a list of fuse and tir images\n",
        "fuse_images = os.listdir(target + \"/fuse\")\n",
        "tir_images = os.listdir(target + \"/tir\")\n",
        "\n",
        "# Get a list of SAM generated rgb labels from \"train\" and \"valid\" folders\n",
        "rgb_train_labels = os.listdir(labelled_target + \"/train/labels/\")\n",
        "rgb_valid_labels = os.listdir(labelled_target + \"/valid/labels/\")\n",
        "\n",
        "# Filter out the fuse images list to create train and valid sets based on the number of the rgb image.\n",
        "train_fuse_images = list(filter(lambda x: all(y not in x for y in valid), fuse_images))\n",
        "valid_fuse_images = list(filter(lambda x: all(y not in x for y in train), fuse_images))\n",
        "\n",
        "# Filter out the tir images list to create train and valid sets based on the number of the rgb image.\n",
        "train_tir_images = list(filter(lambda x: all(y not in x for y in valid), tir_images))\n",
        "valid_tir_images = list(filter(lambda x: all(y not in x for y in train), tir_images))\n",
        "\n",
        "# Copy train fuse images in labeled target train folder\n",
        "for image in (train_fuse_images):\n",
        "    shutil.copy(target + \"/fuse/\" + image, labelled_target + \"/train/images/\")\n",
        "\n",
        "# Copy train tir images in labeled target train folder\n",
        "for image in (train_tir_images):\n",
        "    shutil.copy(target + \"/tir/\" + image, labelled_target + \"/train/images/\")\n",
        "\n",
        "# Copy valid fuse images in labeled target valid folder\n",
        "for image in (valid_fuse_images):\n",
        "    shutil.copy(target + \"/fuse/\" + image, labelled_target + \"/valid/images/\")\n",
        "\n",
        "# Copy valid tir images in labeled target valid folder\n",
        "for image in (valid_tir_images):\n",
        "    shutil.copy(target + \"/tir/\" + image, labelled_target + \"/valid/images/\")\n",
        "\n",
        "# Copy the rgb labels after filtering out the appropriate ones from the entire rgb label set as fuse and tir labels to the labeled target labels folder\n",
        "for l in rgb_train_labels:\n",
        "    shutil.copy(labelled_target + \"/train/labels/\" + l, labelled_target + \"/train/labels/fuse-\" + l[l.find(\"-\")+1 : l.find(\".\")] + \".txt\")\n",
        "    shutil.copy(labelled_target + \"/train/labels/\" + l, labelled_target + \"/train/labels/tir-\" + l[l.find(\"-\")+1 : l.find(\".\")] + \".txt\")\n",
        "\n",
        "# Copy the rgb labels after filtering out the appropriate ones from the entire rgb label set as fuse and tir labels to the labeled target labels folder\n",
        "for l in rgb_valid_labels:\n",
        "    shutil.copy(labelled_target + \"/valid/labels/\" + l, labelled_target + \"/valid/labels/fuse-\" + l[l.find(\"-\")+1 : l.find(\".\")] + \".txt\")\n",
        "    shutil.copy(labelled_target + \"/valid/labels/\" + l, labelled_target + \"/valid/labels/tir-\" + l[l.find(\"-\")+1 : l.find(\".\")] + \".txt\")"
      ],
      "metadata": {
        "id": "-XohCzWEsXaJ"
      },
      "execution_count": null,
      "outputs": []
    },
    {
      "cell_type": "code",
      "source": [
        "# Train YOLOV8 model\n",
        "\n",
        "target_model = YOLO(\"yolov8n.pt\")\n",
        "target_model.train(data=labelled_target + \"/data.yaml\", epochs=200, device=\"mps\")\n",
        "target_model.train(labelled_target + \"/data.yaml\", epochs=200, device=\"mps\")"
      ],
      "metadata": {
        "id": "ydactoZ-sa_w"
      },
      "execution_count": null,
      "outputs": []
    }
  ]
}